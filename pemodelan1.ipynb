{
  "cells": [
    {
      "cell_type": "code",
      "execution_count": 1,
      "metadata": {
        "id": "jVEwrQaH18wl"
      },
      "outputs": [
        {
          "name": "stderr",
          "output_type": "stream",
          "text": [
            "C:\\Users\\Primadya\\AppData\\Local\\Temp\\ipykernel_18548\\3456542538.py:1: DeprecationWarning: \n",
            "Pyarrow will become a required dependency of pandas in the next major release of pandas (pandas 3.0),\n",
            "(to allow more performant data types, such as the Arrow string type, and better interoperability with other libraries)\n",
            "but was not found to be installed on your system.\n",
            "If this would cause problems for you,\n",
            "please provide us feedback at https://github.com/pandas-dev/pandas/issues/54466\n",
            "        \n",
            "  import pandas as pd\n"
          ]
        }
      ],
      "source": [
        "import pandas as pd\n",
        "import numpy as np\n",
        "import matplotlib.pyplot as plt\n",
        "import nltk\n",
        "from sklearn.model_selection import train_test_split, GridSearchCV, cross_val_score\n",
        "from sklearn.feature_extraction.text import CountVectorizer, TfidfVectorizer\n",
        "from sklearn.preprocessing import LabelEncoder\n",
        "from sklearn.ensemble import RandomForestClassifier, AdaBoostClassifier\n",
        "from sklearn.svm import SVC\n",
        "from sklearn.neighbors import KNeighborsClassifier\n",
        "from sklearn.linear_model import LogisticRegression\n",
        "from sklearn.tree import DecisionTreeClassifier\n",
        "from sklearn.metrics import classification_report, accuracy_score\n",
        "from sklearn.pipeline import Pipeline\n",
        "from sklearn.decomposition import TruncatedSVD\n",
        "from sklearn.feature_selection import SelectKBest, chi2\n",
        "\n",
        "import tensorflow as tf\n",
        "from tensorflow.keras.models import Sequential\n",
        "from tensorflow.keras.layers import Embedding, LSTM, GRU, Dense, Dropout, Bidirectional, Conv1D, GlobalMaxPooling1D\n",
        "from tensorflow.keras.callbacks import EarlyStopping\n",
        "from tensorflow.keras.preprocessing.text import Tokenizer\n",
        "from tensorflow.keras.preprocessing.sequence import pad_sequences\n"
      ]
    },
    {
      "cell_type": "code",
      "execution_count": 2,
      "metadata": {
        "colab": {
          "base_uri": "https://localhost:8080/",
          "height": 206
        },
        "id": "S0x1iLi31-v7",
        "outputId": "95081407-0ef2-4aad-d65f-60612214bebf"
      },
      "outputs": [
        {
          "data": {
            "text/html": [
              "<div>\n",
              "<style scoped>\n",
              "    .dataframe tbody tr th:only-of-type {\n",
              "        vertical-align: middle;\n",
              "    }\n",
              "\n",
              "    .dataframe tbody tr th {\n",
              "        vertical-align: top;\n",
              "    }\n",
              "\n",
              "    .dataframe thead th {\n",
              "        text-align: right;\n",
              "    }\n",
              "</style>\n",
              "<table border=\"1\" class=\"dataframe\">\n",
              "  <thead>\n",
              "    <tr style=\"text-align: right;\">\n",
              "      <th></th>\n",
              "      <th>ulasan</th>\n",
              "      <th>ulasan_bersih</th>\n",
              "      <th>sentimen_score</th>\n",
              "      <th>sentimen</th>\n",
              "    </tr>\n",
              "  </thead>\n",
              "  <tbody>\n",
              "    <tr>\n",
              "      <th>0</th>\n",
              "      <td>bagus sih GK nyesel kalo download ny tp kadang...</td>\n",
              "      <td>bagu sih gk nyesel kalo download ny tp kadang ...</td>\n",
              "      <td>0</td>\n",
              "      <td>neutral</td>\n",
              "    </tr>\n",
              "    <tr>\n",
              "      <th>1</th>\n",
              "      <td>Aplikasi nya bagus banget buat edit foto atau ...</td>\n",
              "      <td>aplikasi nya bagu banget buat edit foto atau m...</td>\n",
              "      <td>6</td>\n",
              "      <td>positive</td>\n",
              "    </tr>\n",
              "    <tr>\n",
              "      <th>2</th>\n",
              "      <td>please! kembalikan B612 seperti dulu lagi yg s...</td>\n",
              "      <td>pleas kembalikan b seperti dulu lagi yg sllu b...</td>\n",
              "      <td>-16</td>\n",
              "      <td>negative</td>\n",
              "    </tr>\n",
              "    <tr>\n",
              "      <th>3</th>\n",
              "      <td>Sejak di update semakin banyak pro,ada iklan g...</td>\n",
              "      <td>sejak di updat semakin banyak proada iklan ga ...</td>\n",
              "      <td>-3</td>\n",
              "      <td>negative</td>\n",
              "    </tr>\n",
              "    <tr>\n",
              "      <th>4</th>\n",
              "      <td>Aku sukaaa bgt sama B612... filter nya bikin m...</td>\n",
              "      <td>aku sukaaa bgt sama b filter nya bikin muka ja...</td>\n",
              "      <td>2</td>\n",
              "      <td>positive</td>\n",
              "    </tr>\n",
              "  </tbody>\n",
              "</table>\n",
              "</div>"
            ],
            "text/plain": [
              "                                              ulasan  \\\n",
              "0  bagus sih GK nyesel kalo download ny tp kadang...   \n",
              "1  Aplikasi nya bagus banget buat edit foto atau ...   \n",
              "2  please! kembalikan B612 seperti dulu lagi yg s...   \n",
              "3  Sejak di update semakin banyak pro,ada iklan g...   \n",
              "4  Aku sukaaa bgt sama B612... filter nya bikin m...   \n",
              "\n",
              "                                       ulasan_bersih  sentimen_score  sentimen  \n",
              "0  bagu sih gk nyesel kalo download ny tp kadang ...               0   neutral  \n",
              "1  aplikasi nya bagu banget buat edit foto atau m...               6  positive  \n",
              "2  pleas kembalikan b seperti dulu lagi yg sllu b...             -16  negative  \n",
              "3  sejak di updat semakin banyak proada iklan ga ...              -3  negative  \n",
              "4  aku sukaaa bgt sama b filter nya bikin muka ja...               2  positive  "
            ]
          },
          "execution_count": 2,
          "metadata": {},
          "output_type": "execute_result"
        }
      ],
      "source": [
        "df = pd.read_csv('dataset_resampled_baru_pol.csv')\n",
        "df.head()"
      ]
    },
    {
      "cell_type": "code",
      "execution_count": 3,
      "metadata": {
        "colab": {
          "base_uri": "https://localhost:8080/",
          "height": 206
        },
        "id": "Gr-vlNAL2L4p",
        "outputId": "58c45b7e-f570-4f1c-c006-bee3699c4037"
      },
      "outputs": [
        {
          "data": {
            "text/html": [
              "<div>\n",
              "<style scoped>\n",
              "    .dataframe tbody tr th:only-of-type {\n",
              "        vertical-align: middle;\n",
              "    }\n",
              "\n",
              "    .dataframe tbody tr th {\n",
              "        vertical-align: top;\n",
              "    }\n",
              "\n",
              "    .dataframe thead th {\n",
              "        text-align: right;\n",
              "    }\n",
              "</style>\n",
              "<table border=\"1\" class=\"dataframe\">\n",
              "  <thead>\n",
              "    <tr style=\"text-align: right;\">\n",
              "      <th></th>\n",
              "      <th>ulasan_bersih</th>\n",
              "      <th>sentimen</th>\n",
              "    </tr>\n",
              "  </thead>\n",
              "  <tbody>\n",
              "    <tr>\n",
              "      <th>0</th>\n",
              "      <td>bagu sih gk nyesel kalo download ny tp kadang ...</td>\n",
              "      <td>neutral</td>\n",
              "    </tr>\n",
              "    <tr>\n",
              "      <th>1</th>\n",
              "      <td>aplikasi nya bagu banget buat edit foto atau m...</td>\n",
              "      <td>positive</td>\n",
              "    </tr>\n",
              "    <tr>\n",
              "      <th>2</th>\n",
              "      <td>pleas kembalikan b seperti dulu lagi yg sllu b...</td>\n",
              "      <td>negative</td>\n",
              "    </tr>\n",
              "    <tr>\n",
              "      <th>3</th>\n",
              "      <td>sejak di updat semakin banyak proada iklan ga ...</td>\n",
              "      <td>negative</td>\n",
              "    </tr>\n",
              "    <tr>\n",
              "      <th>4</th>\n",
              "      <td>aku sukaaa bgt sama b filter nya bikin muka ja...</td>\n",
              "      <td>positive</td>\n",
              "    </tr>\n",
              "  </tbody>\n",
              "</table>\n",
              "</div>"
            ],
            "text/plain": [
              "                                       ulasan_bersih  sentimen\n",
              "0  bagu sih gk nyesel kalo download ny tp kadang ...   neutral\n",
              "1  aplikasi nya bagu banget buat edit foto atau m...  positive\n",
              "2  pleas kembalikan b seperti dulu lagi yg sllu b...  negative\n",
              "3  sejak di updat semakin banyak proada iklan ga ...  negative\n",
              "4  aku sukaaa bgt sama b filter nya bikin muka ja...  positive"
            ]
          },
          "execution_count": 3,
          "metadata": {},
          "output_type": "execute_result"
        }
      ],
      "source": [
        "# Menghapus feature yang tidak diperlukan\n",
        "df.drop(['ulasan', 'sentimen_score'], axis=1, inplace=True)\n",
        "df.head()"
      ]
    },
    {
      "cell_type": "code",
      "execution_count": 4,
      "metadata": {
        "colab": {
          "base_uri": "https://localhost:8080/",
          "height": 538
        },
        "id": "_MkuEJ7l4c5a",
        "outputId": "28cc5494-5a0c-4f13-e158-1fcdebb79f4f"
      },
      "outputs": [
        {
          "data": {
            "image/png": "[encoded data removed]",
            "text/plain": [
              "<Figure size 500x500 with 1 Axes>"
            ]
          },
          "metadata": {},
          "output_type": "display_data"
        },
        {
          "name": "stdout",
          "output_type": "stream",
          "text": [
            "sentimen\n",
            "neutral     9712\n",
            "positive    9712\n",
            "negative    9712\n",
            "Name: count, dtype: int64\n"
          ]
        }
      ],
      "source": [
        "import matplotlib.pyplot as plt\n",
        "import seaborn as sns\n",
        "import pandas as pd\n",
        "\n",
        "# Tampilkan distribusi label\n",
        "label_counts = df['sentimen'].value_counts()\n",
        "plt.figure(figsize=(5, 5), facecolor='white')\n",
        "\n",
        "# Ubah warna plot menjadi kuning, hijau, dan abu-abu\n",
        "colors = ['yellow', 'green', 'gray']\n",
        "plt.pie(label_counts, labels=label_counts.index, autopct='%1.1f%%', startangle=140, colors=colors)\n",
        "plt.title('Distribusi Label')\n",
        "plt.axis('equal')\n",
        "plt.show()\n",
        "\n",
        "print(label_counts)"
      ]
    },
    {
      "cell_type": "code",
      "execution_count": 5,
      "metadata": {},
      "outputs": [
        {
          "name": "stdout",
          "output_type": "stream",
          "text": [
            "Jumlah total data: 29136\n"
          ]
        }
      ],
      "source": [
        "# Hitung jumlah total data\n",
        "total_data = len(df)\n",
        "\n",
        "# Tampilkan hasil\n",
        "print(f\"Jumlah total data: {total_data}\")"
      ]
    },
    {
      "cell_type": "code",
      "execution_count": 6,
      "metadata": {
        "id": "1VZUGF4c5IhT"
      },
      "outputs": [],
      "source": [
        "X = df['ulasan_bersih'].values\n",
        "y = df['sentimen'].values"
      ]
    },
    {
      "cell_type": "code",
      "execution_count": 7,
      "metadata": {
        "id": "nG9PGa7M6ulK"
      },
      "outputs": [],
      "source": [
        "X_train, X_test, y_train, y_test = train_test_split(X, y, test_size=0.2, stratify=y, random_state=42)"
      ]
    },
    {
      "cell_type": "code",
      "execution_count": 8,
      "metadata": {
        "id": "NRc78OJkRCtr"
      },
      "outputs": [],
      "source": [
        "# Tokenisasi\n",
        "X_train_text = [' '.join(X.split()) for X in X_train]\n",
        "X_test_text = [' '.join(X.split()) for X in X_test]"
      ]
    },
    {
      "cell_type": "code",
      "execution_count": 9,
      "metadata": {
        "id": "97UCyOQDBK9f"
      },
      "outputs": [],
      "source": [
        "# Tokenisasi dan padding\n",
        "vocab_size = 5000\n",
        "embedding_dim = 16\n",
        "max_len = 200\n",
        "\n",
        "tokenizer = Tokenizer(num_words=vocab_size, oov_token='<OOV>')\n",
        "tokenizer.fit_on_texts(X_train)\n",
        "\n",
        "X_train_seq = tokenizer.texts_to_sequences(X_train)\n",
        "X_train_pad = pad_sequences(X_train_seq, maxlen=max_len, padding='post')\n",
        "\n",
        "X_test_seq = tokenizer.texts_to_sequences(X_test)\n",
        "X_test_pad = pad_sequences(X_test_seq, maxlen=max_len, padding='post')\n",
        "\n",
        "# Merubah label yang dari str menjadi int\n",
        "label_encoder = LabelEncoder()\n",
        "y_train_encoded = label_encoder.fit_transform(y_train)\n",
        "y_test_encoded = label_encoder.transform(y_test)"
      ]
    },
    {
      "cell_type": "code",
      "execution_count": 10,
      "metadata": {},
      "outputs": [],
      "source": [
        "# Early stopping\n",
        "early_stopping = EarlyStopping(monitor='val_loss', patience=3, restore_best_weights=True)"
      ]
    },
    {
      "cell_type": "code",
      "execution_count": 11,
      "metadata": {},
      "outputs": [
        {
          "name": "stderr",
          "output_type": "stream",
          "text": [
            "d:\\Aplikasi\\miniconda3\\envs\\envq\\lib\\site-packages\\keras\\src\\layers\\core\\embedding.py:90: UserWarning: Argument `input_length` is deprecated. Just remove it.\n",
            "  warnings.warn(\n"
          ]
        }
      ],
      "source": [
        "# Definisi model CNN\n",
        "model_cnn = Sequential([\n",
        "    Embedding(vocab_size, embedding_dim, input_length=max_len),\n",
        "    Conv1D(128, 5, activation='relu'),\n",
        "    GlobalMaxPooling1D(),\n",
        "    Dense(128, activation='relu'),\n",
        "    Dense(len(label_encoder.classes_), activation='softmax')\n",
        "])"
      ]
    },
    {
      "cell_type": "code",
      "execution_count": 12,
      "metadata": {},
      "outputs": [],
      "source": [
        "# Compile the model\n",
        "model_cnn.compile(\n",
        "    optimizer='adam',\n",
        "    loss='sparse_categorical_crossentropy',\n",
        "    metrics=['accuracy']\n",
        ")\n"
      ]
    },
    {
      "cell_type": "code",
      "execution_count": 13,
      "metadata": {},
      "outputs": [
        {
          "name": "stdout",
          "output_type": "stream",
          "text": [
            "Epoch 1/20\n",
            "\u001b[1m729/729\u001b[0m \u001b[32m━━━━━━━━━━━━━━━━━━━━\u001b[0m\u001b[37m\u001b[0m \u001b[1m5s\u001b[0m 5ms/step - accuracy: 0.6286 - loss: 0.7470 - val_accuracy: 0.9202 - val_loss: 0.2529\n",
            "Epoch 2/20\n",
            "\u001b[1m729/729\u001b[0m \u001b[32m━━━━━━━━━━━━━━━━━━━━\u001b[0m\u001b[37m\u001b[0m \u001b[1m3s\u001b[0m 4ms/step - accuracy: 0.9483 - loss: 0.1586 - val_accuracy: 0.9485 - val_loss: 0.1561\n",
            "Epoch 3/20\n",
            "\u001b[1m729/729\u001b[0m \u001b[32m━━━━━━━━━━━━━━━━━━━━\u001b[0m\u001b[37m\u001b[0m \u001b[1m3s\u001b[0m 4ms/step - accuracy: 0.9818 - loss: 0.0615 - val_accuracy: 0.9561 - val_loss: 0.1313\n",
            "Epoch 4/20\n",
            "\u001b[1m729/729\u001b[0m \u001b[32m━━━━━━━━━━━━━━━━━━━━\u001b[0m\u001b[37m\u001b[0m \u001b[1m3s\u001b[0m 4ms/step - accuracy: 0.9933 - loss: 0.0260 - val_accuracy: 0.9592 - val_loss: 0.1459\n",
            "Epoch 5/20\n",
            "\u001b[1m729/729\u001b[0m \u001b[32m━━━━━━━━━━━━━━━━━━━━\u001b[0m\u001b[37m\u001b[0m \u001b[1m3s\u001b[0m 4ms/step - accuracy: 0.9955 - loss: 0.0154 - val_accuracy: 0.9650 - val_loss: 0.1381\n",
            "Epoch 6/20\n",
            "\u001b[1m729/729\u001b[0m \u001b[32m━━━━━━━━━━━━━━━━━━━━\u001b[0m\u001b[37m\u001b[0m \u001b[1m3s\u001b[0m 4ms/step - accuracy: 0.9969 - loss: 0.0098 - val_accuracy: 0.9528 - val_loss: 0.2119\n"
          ]
        }
      ],
      "source": [
        "# Latih model\n",
        "history = model_cnn.fit(\n",
        "    X_train_pad, y_train_encoded,\n",
        "    validation_data=(X_test_pad, y_test_encoded),\n",
        "    epochs=20,  # Anda bisa mengubah jumlah epoch sesuai kebutuhan\n",
        "    batch_size=32,\n",
        "    callbacks=[early_stopping]\n",
        ")\n"
      ]
    },
    {
      "cell_type": "code",
      "execution_count": 14,
      "metadata": {},
      "outputs": [
        {
          "name": "stdout",
          "output_type": "stream",
          "text": [
            "\u001b[1m183/183\u001b[0m \u001b[32m━━━━━━━━━━━━━━━━━━━━\u001b[0m\u001b[37m\u001b[0m \u001b[1m0s\u001b[0m 1ms/step - accuracy: 0.9571 - loss: 0.1290\n",
            "[0.13125361502170563, 0.9560741186141968]\n"
          ]
        }
      ],
      "source": [
        "# Evaluasi model\n",
        "results = model_cnn.evaluate(X_test_pad, y_test_encoded)\n",
        "print(results)"
      ]
    },
    {
      "cell_type": "code",
      "execution_count": null,
      "metadata": {},
      "outputs": [],
      "source": []
    },
    {
      "cell_type": "markdown",
      "metadata": {},
      "source": [
        "# Grafik LSTM dan CNN"
      ]
    },
    {
      "cell_type": "code",
      "execution_count": 15,
      "metadata": {},
      "outputs": [
        {
          "data": {
            "image/png": "[encoded data removed]",
            "text/plain": [
              "<Figure size 1200x600 with 1 Axes>"
            ]
          },
          "metadata": {},
          "output_type": "display_data"
        }
      ],
      "source": [
        "plt.figure(figsize=(12, 6))\n",
        "# Plot akurasi pelatihan dan validasi untuk model CNN\n",
        "plt.subplot(1, 2, 2)\n",
        "plt.plot(history.history['accuracy'], label='Akurasi Pelatihan')\n",
        "plt.plot(history.history['val_accuracy'], label='Akurasi Validasi')\n",
        "plt.title('Pelatihan Model CNN')\n",
        "plt.xlabel('Epoch')\n",
        "plt.ylabel('Akurasi')\n",
        "plt.legend()\n",
        "\n",
        "# Menyesuaikan tata letak plot dan menampilkan plot\n",
        "plt.tight_layout()\n",
        "plt.show()\n"
      ]
    },
    {
      "cell_type": "markdown",
      "metadata": {},
      "source": [
        "# Memprediksi Kalimat"
      ]
    },
    {
      "cell_type": "markdown",
      "metadata": {},
      "source": [
        "untuk memulainya, perlu memasukan jumlah kalimat yang ingin diprediksi. selanjutnya masukan kalimat tersebut."
      ]
    },
    {
      "cell_type": "code",
      "execution_count": 56,
      "metadata": {},
      "outputs": [
        {
          "name": "stdout",
          "output_type": "stream",
          "text": [
            "\u001b[1m1/1\u001b[0m \u001b[32m━━━━━━━━━━━━━━━━━━━━\u001b[0m\u001b[37m\u001b[0m \u001b[1m0s\u001b[0m 16ms/step\n",
            "\u001b[1m1/1\u001b[0m \u001b[32m━━━━━━━━━━━━━━━━━━━━\u001b[0m\u001b[37m\u001b[0m \u001b[1m0s\u001b[0m 17ms/step\n",
            "\u001b[1m1/1\u001b[0m \u001b[32m━━━━━━━━━━━━━━━━━━━━\u001b[0m\u001b[37m\u001b[0m \u001b[1m0s\u001b[0m 18ms/step\n",
            "Original Text 1: aplikasi buruk sekali\n",
            "Prediction: negative\n",
            "\n",
            "Original Text 2: cocok untuk nostalgia\n",
            "Prediction: positive\n",
            "\n",
            "Original Text 3: sangat bagus\n",
            "Prediction: neutral\n",
            "\n"
          ]
        }
      ],
      "source": [
        "from cleaning import preprocessing_text\n",
        "import numpy as np\n",
        "\n",
        "# Ambil teks baru dari pengguna\n",
        "new_texts = []\n",
        "num_texts = int(input(\"Masukkan jumlah teks yang ingin diprediksi: \"))\n",
        "\n",
        "for i in range(num_texts):\n",
        "    text = input(f\"Masukkan teks ke-{i+1}: \")\n",
        "    new_texts.append(text)\n",
        "\n",
        "predictions = []\n",
        "\n",
        "# Proses prediksi untuk setiap teks baru\n",
        "for new_text in new_texts:\n",
        "    cleaned_text = preprocessing_text(new_text)\n",
        "\n",
        "    # Tokenisasi dan padding teks baru\n",
        "    sequences = tokenizer.texts_to_sequences([cleaned_text])\n",
        "    padded_sequences = pad_sequences(sequences, maxlen=max_len, padding='post')\n",
        "\n",
        "    # Prediksi menggunakan model CNN\n",
        "    cnn_prediction = model_cnn.predict(padded_sequences)\n",
        "    predicted_label = np.argmax(cnn_prediction, axis=1)\n",
        "    \n",
        "    predictions.append(predicted_label)\n",
        "\n",
        "# Tampilkan hasil prediksi\n",
        "for i, prediction in enumerate(predictions):\n",
        "    original_text = new_texts[i]\n",
        "    pred_label = label_encoder.inverse_transform(prediction)\n",
        "    print(f\"Original Text {i+1}: {original_text}\")\n",
        "    print(f\"Prediction: {pred_label[0]}\")\n",
        "    print()\n"
      ]
    },
    {
      "cell_type": "code",
      "execution_count": 16,
      "metadata": {},
      "outputs": [
        {
          "name": "stdout",
          "output_type": "stream",
          "text": [
            "Model CNN disimpan dalam model_cnn.pkl\n",
            "Model CNN berhasil dimuat kembali\n",
            "\u001b[1m183/183\u001b[0m \u001b[32m━━━━━━━━━━━━━━━━━━━━\u001b[0m\u001b[37m\u001b[0m \u001b[1m0s\u001b[0m 2ms/step - accuracy: 0.9571 - loss: 0.1290\n",
            "[0.13125361502170563, 0.9560741186141968]\n"
          ]
        }
      ],
      "source": [
        "import pickle\n",
        "\n",
        "# Simpan model menggunakan pickle\n",
        "cnn_model_path = 'model_cnn.pkl'\n",
        "with open(cnn_model_path, 'wb') as file:\n",
        "    pickle.dump(model_cnn, file)\n",
        "\n",
        "print(f\"Model CNN disimpan dalam {cnn_model_path}\")\n",
        "\n",
        "# Muat model menggunakan pickle\n",
        "with open(cnn_model_path, 'rb') as file:\n",
        "    loaded_model_cnn = pickle.load(file)\n",
        "\n",
        "print(\"Model CNN berhasil dimuat kembali\")\n",
        "\n",
        "# Evaluasi model yang dimuat\n",
        "loaded_results = loaded_model_cnn.evaluate(X_test_pad, y_test_encoded)\n",
        "print(loaded_results)\n"
      ]
    },
    {
      "cell_type": "code",
      "execution_count": null,
      "metadata": {},
      "outputs": [],
      "source": []
    }
  ],
  "metadata": {
    "colab": {
      "gpuType": "T4",
      "provenance": []
    },
    "kernelspec": {
      "display_name": "envq",
      "language": "python",
      "name": "python3"
    },
    "language_info": {
      "codemirror_mode": {
        "name": "ipython",
        "version": 3
      },
      "file_extension": ".py",
      "mimetype": "text/x-python",
      "name": "python",
      "nbconvert_exporter": "python",
      "pygments_lexer": "ipython3",
      "version": "3.10.13"
    }
  },
  "nbformat": 4,
  "nbformat_minor": 0
}
